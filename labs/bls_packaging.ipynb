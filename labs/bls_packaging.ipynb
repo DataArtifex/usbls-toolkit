{
 "cells": [
  {
   "cell_type": "markdown",
   "id": "894a3b40",
   "metadata": {},
   "source": [
    "# Turning BLS databases into data products"
   ]
  },
  {
   "cell_type": "code",
   "execution_count": 1,
   "id": "f9ce3cf5-c840-432b-be31-affa6d08aed6",
   "metadata": {},
   "outputs": [],
   "source": [
    "from dartfx.usblstoolkit import model\n",
    "import logging\n",
    "logging.basicConfig(format='%(asctime)s %(levelname)s: %(message)s', level=\"DEBUG\")"
   ]
  },
  {
   "cell_type": "code",
   "execution_count": 2,
   "id": "e734bb2d-772f-4e96-8a76-4bcac1d67e0c",
   "metadata": {},
   "outputs": [],
   "source": [
    "# Setup database\n",
    "repo = model.BlsRepository('/Volumes/Seagate/DataArchive/HighValueDataNetwork/us-bls/repository')\n",
    "db_id = 'cu'\n",
    "db = model.BlsDatabase(repo, db_id)"
   ]
  },
  {
   "cell_type": "code",
   "execution_count": 8,
   "id": "3656f7f5",
   "metadata": {},
   "outputs": [
    {
     "name": "stderr",
     "output_type": "stream",
     "text": [
      "2024-04-26 16:48:36,529 INFO: Skipping /Volumes/Seagate/DataArchive/HighValueDataNetwork/us-bls/repository/products/cu/cu.series.csv (already exists)\n",
      "2024-04-26 16:48:36,532 INFO: Skipping /Volumes/Seagate/DataArchive/HighValueDataNetwork/us-bls/repository/products/cu/cu.series.csv.zip (already exists)\n",
      "2024-04-26 16:48:36,534 INFO: Skipping /Volumes/Seagate/DataArchive/HighValueDataNetwork/us-bls/repository/products/cu/cu.series.parquet (already exists)\n"
     ]
    }
   ],
   "source": [
    "#\n",
    "#Series\n",
    "#\n",
    "overwrite=False\n",
    "df = db.seriesfile.to_csv(overwrite=overwrite, zipped=False)\n",
    "df = db.seriesfile.to_csv(overwrite=overwrite, zipped=True)\n",
    "df = db.seriesfile.to_parquet(overwrite=overwrite)\n"
   ]
  },
  {
   "cell_type": "code",
   "execution_count": 3,
   "id": "b7a89fc1-2110-4580-b5df-76ab056fbd14",
   "metadata": {},
   "outputs": [
    {
     "name": "stderr",
     "output_type": "stream",
     "text": [
      "2024-04-26 17:26:23,852 DEBUG: Generating database DDI\n",
      "2024-04-26 17:26:23,989 DEBUG: Loading /Volumes/Seagate/DataArchive/HighValueDataNetwork/us-bls/repository/bls/cu/cu.data.5.AsizeSouth\n",
      "2024-04-26 17:26:24,178 DEBUG: Loading /Volumes/Seagate/DataArchive/HighValueDataNetwork/us-bls/repository/bls/cu/cu.period\n",
      "2024-04-26 17:26:24,186 DEBUG: Loading /Volumes/Seagate/DataArchive/HighValueDataNetwork/us-bls/repository/bls/cu/cu.footnote\n",
      "2024-04-26 17:26:24,195 DEBUG: Loading /Volumes/Seagate/DataArchive/HighValueDataNetwork/us-bls/repository/bls/cu/cu.seasonal\n",
      "2024-04-26 17:26:24,201 DEBUG: Loading /Volumes/Seagate/DataArchive/HighValueDataNetwork/us-bls/repository/bls/cu/cu.periodicity\n",
      "2024-04-26 17:26:24,208 DEBUG: Loading /Volumes/Seagate/DataArchive/HighValueDataNetwork/us-bls/repository/bls/cu/cu.area\n",
      "2024-04-26 17:26:24,232 DEBUG: Loading /Volumes/Seagate/DataArchive/HighValueDataNetwork/us-bls/repository/bls/cu/cu.item\n",
      "2024-04-26 17:26:24,340 DEBUG: Loading /Volumes/Seagate/DataArchive/HighValueDataNetwork/us-bls/repository/bls/cu/cu.data.0.Current\n",
      "2024-04-26 17:26:35,386 INFO: Skipping /Volumes/Seagate/DataArchive/HighValueDataNetwork/us-bls/repository/products/cu/cu.data.0.Current.csv (already exists)\n",
      "2024-04-26 17:26:35,387 INFO: Skipping /Volumes/Seagate/DataArchive/HighValueDataNetwork/us-bls/repository/products/cu/cu.data.0.Current.csv.zip (already exists)\n",
      "2024-04-26 17:26:35,389 INFO: Skipping /Volumes/Seagate/DataArchive/HighValueDataNetwork/us-bls/repository/products/cu/cu.data.0.Current.parquet (already exists)\n",
      "2024-04-26 17:26:35,390 DEBUG: Generating DDI-Codebook for cu.data.0.Current\n",
      "2024-04-26 17:26:35,393 DEBUG: Generating database DDI\n"
     ]
    },
    {
     "name": "stdout",
     "output_type": "stream",
     "text": [
      "cu.data.0.Current contains 7,933 series and 1,050,988 records from 1997-M01 to 2024-M03\n"
     ]
    },
    {
     "name": "stderr",
     "output_type": "stream",
     "text": [
      "2024-04-26 17:26:36,211 DEBUG: Loading /Volumes/Seagate/DataArchive/HighValueDataNetwork/us-bls/repository/bls/cu/cu.data.1.AllItems\n",
      "2024-04-26 17:26:36,916 INFO: Skipping /Volumes/Seagate/DataArchive/HighValueDataNetwork/us-bls/repository/products/cu/cu.data.1.AllItems.csv (already exists)\n",
      "2024-04-26 17:26:36,918 INFO: Skipping /Volumes/Seagate/DataArchive/HighValueDataNetwork/us-bls/repository/products/cu/cu.data.1.AllItems.csv.zip (already exists)\n",
      "2024-04-26 17:26:36,921 INFO: Skipping /Volumes/Seagate/DataArchive/HighValueDataNetwork/us-bls/repository/products/cu/cu.data.1.AllItems.parquet (already exists)\n",
      "2024-04-26 17:26:36,922 DEBUG: Generating DDI-Codebook for cu.data.1.AllItems\n",
      "2024-04-26 17:26:36,925 DEBUG: Generating database DDI\n",
      "2024-04-26 17:26:37,006 DEBUG: Dropped 1 categories for footnote_codes\n",
      "2024-04-26 17:26:37,051 DEBUG: Dropped 398 categories for item_code\n",
      "2024-04-26 17:26:37,058 DEBUG: Loading /Volumes/Seagate/DataArchive/HighValueDataNetwork/us-bls/repository/bls/cu/cu.data.10.OtherWest\n"
     ]
    },
    {
     "name": "stdout",
     "output_type": "stream",
     "text": [
      "cu.data.1.AllItems contains 201 series and 61,586 records from 1913-M01 to 2024-M03\n"
     ]
    },
    {
     "name": "stderr",
     "output_type": "stream",
     "text": [
      "2024-04-26 17:26:40,005 INFO: Skipping /Volumes/Seagate/DataArchive/HighValueDataNetwork/us-bls/repository/products/cu/cu.data.10.OtherWest.csv (already exists)\n",
      "2024-04-26 17:26:40,007 INFO: Skipping /Volumes/Seagate/DataArchive/HighValueDataNetwork/us-bls/repository/products/cu/cu.data.10.OtherWest.csv.zip (already exists)\n",
      "2024-04-26 17:26:40,009 INFO: Skipping /Volumes/Seagate/DataArchive/HighValueDataNetwork/us-bls/repository/products/cu/cu.data.10.OtherWest.parquet (already exists)\n",
      "2024-04-26 17:26:40,010 DEBUG: Generating DDI-Codebook for cu.data.10.OtherWest\n",
      "2024-04-26 17:26:40,011 DEBUG: Generating database DDI\n",
      "2024-04-26 17:26:40,112 DEBUG: Dropped 1 categories for footnote_codes\n",
      "2024-04-26 17:26:40,160 DEBUG: Dropped 1 categories for seasonal_code\n"
     ]
    },
    {
     "name": "stdout",
     "output_type": "stream",
     "text": [
      "cu.data.10.OtherWest contains 1,760 series and 270,746 records from 1914-M12 to 2024-M03\n"
     ]
    },
    {
     "name": "stderr",
     "output_type": "stream",
     "text": [
      "2024-04-26 17:26:40,238 DEBUG: Dropped 44 categories for area_code\n",
      "2024-04-26 17:26:40,302 DEBUG: Dropped 322 categories for item_code\n",
      "2024-04-26 17:26:40,308 DEBUG: Loading /Volumes/Seagate/DataArchive/HighValueDataNetwork/us-bls/repository/bls/cu/cu.data.11.USFoodBeverage\n",
      "2024-04-26 17:26:42,124 INFO: Skipping /Volumes/Seagate/DataArchive/HighValueDataNetwork/us-bls/repository/products/cu/cu.data.11.USFoodBeverage.csv (already exists)\n",
      "2024-04-26 17:26:42,126 INFO: Skipping /Volumes/Seagate/DataArchive/HighValueDataNetwork/us-bls/repository/products/cu/cu.data.11.USFoodBeverage.csv.zip (already exists)\n",
      "2024-04-26 17:26:42,128 INFO: Skipping /Volumes/Seagate/DataArchive/HighValueDataNetwork/us-bls/repository/products/cu/cu.data.11.USFoodBeverage.parquet (already exists)\n",
      "2024-04-26 17:26:42,129 DEBUG: Generating DDI-Codebook for cu.data.11.USFoodBeverage\n",
      "2024-04-26 17:26:42,132 DEBUG: Generating database DDI\n",
      "2024-04-26 17:26:42,237 DEBUG: Dropped 1 categories for footnote_codes\n",
      "2024-04-26 17:26:42,304 DEBUG: Dropped 55 categories for area_code\n"
     ]
    },
    {
     "name": "stdout",
     "output_type": "stream",
     "text": [
      "cu.data.11.USFoodBeverage contains 422 series and 149,392 records from 1913-M01 to 2024-M03\n"
     ]
    },
    {
     "name": "stderr",
     "output_type": "stream",
     "text": [
      "2024-04-26 17:26:42,336 DEBUG: Dropped 267 categories for item_code\n",
      "2024-04-26 17:26:42,344 DEBUG: Loading /Volumes/Seagate/DataArchive/HighValueDataNetwork/us-bls/repository/bls/cu/cu.data.12.USHousing\n",
      "2024-04-26 17:26:42,964 INFO: Skipping /Volumes/Seagate/DataArchive/HighValueDataNetwork/us-bls/repository/products/cu/cu.data.12.USHousing.csv (already exists)\n",
      "2024-04-26 17:26:42,966 INFO: Skipping /Volumes/Seagate/DataArchive/HighValueDataNetwork/us-bls/repository/products/cu/cu.data.12.USHousing.csv.zip (already exists)\n",
      "2024-04-26 17:26:42,969 INFO: Skipping /Volumes/Seagate/DataArchive/HighValueDataNetwork/us-bls/repository/products/cu/cu.data.12.USHousing.parquet (already exists)\n",
      "2024-04-26 17:26:42,970 DEBUG: Generating DDI-Codebook for cu.data.12.USHousing\n",
      "2024-04-26 17:26:42,973 DEBUG: Generating database DDI\n",
      "2024-04-26 17:26:43,046 DEBUG: Dropped 1 categories for footnote_codes\n",
      "2024-04-26 17:26:43,074 DEBUG: Dropped 55 categories for area_code\n",
      "2024-04-26 17:26:43,090 DEBUG: Dropped 348 categories for item_code\n",
      "2024-04-26 17:26:43,096 DEBUG: Loading /Volumes/Seagate/DataArchive/HighValueDataNetwork/us-bls/repository/bls/cu/cu.data.13.USApparel\n"
     ]
    },
    {
     "name": "stdout",
     "output_type": "stream",
     "text": [
      "cu.data.12.USHousing contains 192 series and 60,471 records from 1913-M12 to 2024-M03\n"
     ]
    },
    {
     "name": "stderr",
     "output_type": "stream",
     "text": [
      "2024-04-26 17:26:43,563 INFO: Skipping /Volumes/Seagate/DataArchive/HighValueDataNetwork/us-bls/repository/products/cu/cu.data.13.USApparel.csv (already exists)\n",
      "2024-04-26 17:26:43,566 INFO: Skipping /Volumes/Seagate/DataArchive/HighValueDataNetwork/us-bls/repository/products/cu/cu.data.13.USApparel.csv.zip (already exists)\n",
      "2024-04-26 17:26:43,569 INFO: Skipping /Volumes/Seagate/DataArchive/HighValueDataNetwork/us-bls/repository/products/cu/cu.data.13.USApparel.parquet (already exists)\n",
      "2024-04-26 17:26:43,570 DEBUG: Generating DDI-Codebook for cu.data.13.USApparel\n",
      "2024-04-26 17:26:43,573 DEBUG: Generating database DDI\n",
      "2024-04-26 17:26:43,658 DEBUG: Dropped 1 categories for footnote_codes\n",
      "2024-04-26 17:26:43,677 DEBUG: Dropped 55 categories for area_code\n",
      "2024-04-26 17:26:43,688 DEBUG: Dropped 376 categories for item_code\n",
      "2024-04-26 17:26:43,695 DEBUG: Loading /Volumes/Seagate/DataArchive/HighValueDataNetwork/us-bls/repository/bls/cu/cu.data.14.USTransportation\n"
     ]
    },
    {
     "name": "stdout",
     "output_type": "stream",
     "text": [
      "cu.data.13.USApparel contains 76 series and 31,744 records from 1913-M13 to 2024-M03\n"
     ]
    },
    {
     "name": "stderr",
     "output_type": "stream",
     "text": [
      "2024-04-26 17:26:44,178 INFO: Skipping /Volumes/Seagate/DataArchive/HighValueDataNetwork/us-bls/repository/products/cu/cu.data.14.USTransportation.csv (already exists)\n",
      "2024-04-26 17:26:44,181 INFO: Skipping /Volumes/Seagate/DataArchive/HighValueDataNetwork/us-bls/repository/products/cu/cu.data.14.USTransportation.csv.zip (already exists)\n",
      "2024-04-26 17:26:44,184 INFO: Skipping /Volumes/Seagate/DataArchive/HighValueDataNetwork/us-bls/repository/products/cu/cu.data.14.USTransportation.parquet (already exists)\n",
      "2024-04-26 17:26:44,185 DEBUG: Generating DDI-Codebook for cu.data.14.USTransportation\n",
      "2024-04-26 17:26:44,188 DEBUG: Generating database DDI\n",
      "2024-04-26 17:26:44,271 DEBUG: Dropped 1 categories for footnote_codes\n",
      "2024-04-26 17:26:44,295 DEBUG: Dropped 55 categories for area_code\n",
      "2024-04-26 17:26:44,307 DEBUG: Dropped 360 categories for item_code\n",
      "2024-04-26 17:26:44,315 DEBUG: Loading /Volumes/Seagate/DataArchive/HighValueDataNetwork/us-bls/repository/bls/cu/cu.data.15.USMedical\n"
     ]
    },
    {
     "name": "stdout",
     "output_type": "stream",
     "text": [
      "cu.data.14.USTransportation contains 164 series and 50,302 records from 1935-M03 to 2024-M03\n"
     ]
    },
    {
     "name": "stderr",
     "output_type": "stream",
     "text": [
      "2024-04-26 17:26:44,551 INFO: Skipping /Volumes/Seagate/DataArchive/HighValueDataNetwork/us-bls/repository/products/cu/cu.data.15.USMedical.csv (already exists)\n",
      "2024-04-26 17:26:44,553 INFO: Skipping /Volumes/Seagate/DataArchive/HighValueDataNetwork/us-bls/repository/products/cu/cu.data.15.USMedical.csv.zip (already exists)\n",
      "2024-04-26 17:26:44,556 INFO: Skipping /Volumes/Seagate/DataArchive/HighValueDataNetwork/us-bls/repository/products/cu/cu.data.15.USMedical.parquet (already exists)\n",
      "2024-04-26 17:26:44,557 DEBUG: Generating DDI-Codebook for cu.data.15.USMedical\n",
      "2024-04-26 17:26:44,560 DEBUG: Generating database DDI\n",
      "2024-04-26 17:26:44,642 DEBUG: Dropped 1 categories for footnote_codes\n",
      "2024-04-26 17:26:44,655 DEBUG: Dropped 55 categories for area_code\n",
      "2024-04-26 17:26:44,664 DEBUG: Dropped 381 categories for item_code\n",
      "2024-04-26 17:26:44,669 DEBUG: Loading /Volumes/Seagate/DataArchive/HighValueDataNetwork/us-bls/repository/bls/cu/cu.data.16.USRecreation\n"
     ]
    },
    {
     "name": "stdout",
     "output_type": "stream",
     "text": [
      "cu.data.15.USMedical contains 70 series and 22,673 records from 1935-M03 to 2024-M03\n"
     ]
    },
    {
     "name": "stderr",
     "output_type": "stream",
     "text": [
      "2024-04-26 17:26:45,122 INFO: Skipping /Volumes/Seagate/DataArchive/HighValueDataNetwork/us-bls/repository/products/cu/cu.data.16.USRecreation.csv (already exists)\n",
      "2024-04-26 17:26:45,124 INFO: Skipping /Volumes/Seagate/DataArchive/HighValueDataNetwork/us-bls/repository/products/cu/cu.data.16.USRecreation.csv.zip (already exists)\n",
      "2024-04-26 17:26:45,127 INFO: Skipping /Volumes/Seagate/DataArchive/HighValueDataNetwork/us-bls/repository/products/cu/cu.data.16.USRecreation.parquet (already exists)\n",
      "2024-04-26 17:26:45,128 DEBUG: Generating DDI-Codebook for cu.data.16.USRecreation\n",
      "2024-04-26 17:26:45,130 DEBUG: Generating database DDI\n",
      "2024-04-26 17:26:45,228 DEBUG: Dropped 1 categories for footnote_codes\n",
      "2024-04-26 17:26:45,247 DEBUG: Dropped 55 categories for area_code\n",
      "2024-04-26 17:26:45,257 DEBUG: Dropped 353 categories for item_code\n",
      "2024-04-26 17:26:45,263 DEBUG: Loading /Volumes/Seagate/DataArchive/HighValueDataNetwork/us-bls/repository/bls/cu/cu.data.17.USEducationAndCommunication\n"
     ]
    },
    {
     "name": "stdout",
     "output_type": "stream",
     "text": [
      "cu.data.16.USRecreation contains 139 series and 31,715 records from 1950-M12 to 2024-M03\n"
     ]
    },
    {
     "name": "stderr",
     "output_type": "stream",
     "text": [
      "2024-04-26 17:26:45,545 INFO: Skipping /Volumes/Seagate/DataArchive/HighValueDataNetwork/us-bls/repository/products/cu/cu.data.17.USEducationAndCommunication.csv (already exists)\n",
      "2024-04-26 17:26:45,546 INFO: Skipping /Volumes/Seagate/DataArchive/HighValueDataNetwork/us-bls/repository/products/cu/cu.data.17.USEducationAndCommunication.csv.zip (already exists)\n",
      "2024-04-26 17:26:45,548 INFO: Skipping /Volumes/Seagate/DataArchive/HighValueDataNetwork/us-bls/repository/products/cu/cu.data.17.USEducationAndCommunication.parquet (already exists)\n",
      "2024-04-26 17:26:45,550 DEBUG: Generating DDI-Codebook for cu.data.17.USEducationAndCommunication\n",
      "2024-04-26 17:26:45,553 DEBUG: Generating database DDI\n",
      "2024-04-26 17:26:45,627 DEBUG: Dropped 1 categories for footnote_codes\n",
      "2024-04-26 17:26:45,640 DEBUG: Dropped 55 categories for area_code\n",
      "2024-04-26 17:26:45,646 DEBUG: Dropped 372 categories for item_code\n",
      "2024-04-26 17:26:45,651 DEBUG: Loading /Volumes/Seagate/DataArchive/HighValueDataNetwork/us-bls/repository/bls/cu/cu.data.18.USOtherGoodsAndServices\n"
     ]
    },
    {
     "name": "stdout",
     "output_type": "stream",
     "text": [
      "cu.data.17.USEducationAndCommunication contains 90 series and 19,957 records from 1935-M13 to 2024-M03\n"
     ]
    },
    {
     "name": "stderr",
     "output_type": "stream",
     "text": [
      "2024-04-26 17:26:45,984 INFO: Skipping /Volumes/Seagate/DataArchive/HighValueDataNetwork/us-bls/repository/products/cu/cu.data.18.USOtherGoodsAndServices.csv (already exists)\n",
      "2024-04-26 17:26:45,987 INFO: Skipping /Volumes/Seagate/DataArchive/HighValueDataNetwork/us-bls/repository/products/cu/cu.data.18.USOtherGoodsAndServices.csv.zip (already exists)\n",
      "2024-04-26 17:26:45,989 INFO: Skipping /Volumes/Seagate/DataArchive/HighValueDataNetwork/us-bls/repository/products/cu/cu.data.18.USOtherGoodsAndServices.parquet (already exists)\n",
      "2024-04-26 17:26:45,990 DEBUG: Generating DDI-Codebook for cu.data.18.USOtherGoodsAndServices\n",
      "2024-04-26 17:26:45,993 DEBUG: Generating database DDI\n",
      "2024-04-26 17:26:46,084 DEBUG: Dropped 1 categories for footnote_codes\n",
      "2024-04-26 17:26:46,102 DEBUG: Dropped 55 categories for area_code\n",
      "2024-04-26 17:26:46,115 DEBUG: Dropped 364 categories for item_code\n",
      "2024-04-26 17:26:46,126 DEBUG: Loading /Volumes/Seagate/DataArchive/HighValueDataNetwork/us-bls/repository/bls/cu/cu.data.19.PopulationSize\n"
     ]
    },
    {
     "name": "stdout",
     "output_type": "stream",
     "text": [
      "cu.data.18.USOtherGoodsAndServices contains 104 series and 24,667 records from 1935-M13 to 2024-M03\n"
     ]
    },
    {
     "name": "stderr",
     "output_type": "stream",
     "text": [
      "2024-04-26 17:26:46,690 INFO: Skipping /Volumes/Seagate/DataArchive/HighValueDataNetwork/us-bls/repository/products/cu/cu.data.19.PopulationSize.csv (already exists)\n",
      "2024-04-26 17:26:46,693 INFO: Skipping /Volumes/Seagate/DataArchive/HighValueDataNetwork/us-bls/repository/products/cu/cu.data.19.PopulationSize.csv.zip (already exists)\n",
      "2024-04-26 17:26:46,699 INFO: Skipping /Volumes/Seagate/DataArchive/HighValueDataNetwork/us-bls/repository/products/cu/cu.data.19.PopulationSize.parquet (already exists)\n",
      "2024-04-26 17:26:46,700 DEBUG: Generating DDI-Codebook for cu.data.19.PopulationSize\n",
      "2024-04-26 17:26:46,702 DEBUG: Generating database DDI\n",
      "2024-04-26 17:26:46,861 DEBUG: Dropped 1 categories for footnote_codes\n",
      "2024-04-26 17:26:46,873 DEBUG: Dropped 1 categories for seasonal_code\n",
      "2024-04-26 17:26:46,886 DEBUG: Dropped 57 categories for area_code\n"
     ]
    },
    {
     "name": "stdout",
     "output_type": "stream",
     "text": [
      "cu.data.19.PopulationSize contains 140 series and 35,413 records from 1977-M12 to 2017-S03\n"
     ]
    },
    {
     "name": "stderr",
     "output_type": "stream",
     "text": [
      "2024-04-26 17:26:46,901 DEBUG: Dropped 330 categories for item_code\n",
      "2024-04-26 17:26:46,908 DEBUG: Loading /Volumes/Seagate/DataArchive/HighValueDataNetwork/us-bls/repository/bls/cu/cu.data.2.Summaries\n",
      "2024-04-26 17:26:50,117 INFO: Skipping /Volumes/Seagate/DataArchive/HighValueDataNetwork/us-bls/repository/products/cu/cu.data.2.Summaries.csv (already exists)\n",
      "2024-04-26 17:26:50,119 INFO: Skipping /Volumes/Seagate/DataArchive/HighValueDataNetwork/us-bls/repository/products/cu/cu.data.2.Summaries.csv.zip (already exists)\n",
      "2024-04-26 17:26:50,124 INFO: Skipping /Volumes/Seagate/DataArchive/HighValueDataNetwork/us-bls/repository/products/cu/cu.data.2.Summaries.parquet (already exists)\n",
      "2024-04-26 17:26:50,126 DEBUG: Generating DDI-Codebook for cu.data.2.Summaries\n",
      "2024-04-26 17:26:50,130 DEBUG: Generating database DDI\n",
      "2024-04-26 17:26:50,250 DEBUG: Dropped 1 categories for footnote_codes\n"
     ]
    },
    {
     "name": "stdout",
     "output_type": "stream",
     "text": [
      "cu.data.2.Summaries contains 1,293 series and 270,062 records from 1913-M01 to 2024-M03\n"
     ]
    },
    {
     "name": "stderr",
     "output_type": "stream",
     "text": [
      "2024-04-26 17:26:50,483 DEBUG: Dropped 387 categories for item_code\n",
      "2024-04-26 17:26:50,490 DEBUG: Loading /Volumes/Seagate/DataArchive/HighValueDataNetwork/us-bls/repository/bls/cu/cu.data.20.USCommoditiesServicesSpecial\n",
      "2024-04-26 17:26:51,502 INFO: Skipping /Volumes/Seagate/DataArchive/HighValueDataNetwork/us-bls/repository/products/cu/cu.data.20.USCommoditiesServicesSpecial.csv (already exists)\n",
      "2024-04-26 17:26:51,506 INFO: Skipping /Volumes/Seagate/DataArchive/HighValueDataNetwork/us-bls/repository/products/cu/cu.data.20.USCommoditiesServicesSpecial.csv.zip (already exists)\n",
      "2024-04-26 17:26:51,508 INFO: Skipping /Volumes/Seagate/DataArchive/HighValueDataNetwork/us-bls/repository/products/cu/cu.data.20.USCommoditiesServicesSpecial.parquet (already exists)\n",
      "2024-04-26 17:26:51,510 DEBUG: Generating DDI-Codebook for cu.data.20.USCommoditiesServicesSpecial\n",
      "2024-04-26 17:26:51,512 DEBUG: Generating database DDI\n",
      "2024-04-26 17:26:51,600 DEBUG: Dropped 1 categories for footnote_codes\n",
      "2024-04-26 17:26:51,651 DEBUG: Dropped 55 categories for area_code\n",
      "2024-04-26 17:26:51,678 DEBUG: Dropped 366 categories for item_code\n",
      "2024-04-26 17:26:51,687 DEBUG: Loading /Volumes/Seagate/DataArchive/HighValueDataNetwork/us-bls/repository/bls/cu/cu.data.3.AsizeNorthEast\n"
     ]
    },
    {
     "name": "stdout",
     "output_type": "stream",
     "text": [
      "cu.data.20.USCommoditiesServicesSpecial contains 199 series and 82,349 records from 1913-M01 to 2024-M03\n"
     ]
    },
    {
     "name": "stderr",
     "output_type": "stream",
     "text": [
      "2024-04-26 17:26:51,950 INFO: Skipping /Volumes/Seagate/DataArchive/HighValueDataNetwork/us-bls/repository/products/cu/cu.data.3.AsizeNorthEast.csv (already exists)\n",
      "2024-04-26 17:26:51,953 INFO: Skipping /Volumes/Seagate/DataArchive/HighValueDataNetwork/us-bls/repository/products/cu/cu.data.3.AsizeNorthEast.csv.zip (already exists)\n",
      "2024-04-26 17:26:51,956 INFO: Skipping /Volumes/Seagate/DataArchive/HighValueDataNetwork/us-bls/repository/products/cu/cu.data.3.AsizeNorthEast.parquet (already exists)\n",
      "2024-04-26 17:26:51,958 DEBUG: Generating DDI-Codebook for cu.data.3.AsizeNorthEast\n",
      "2024-04-26 17:26:51,961 DEBUG: Generating database DDI\n"
     ]
    },
    {
     "name": "stdout",
     "output_type": "stream",
     "text": [
      "cu.data.3.AsizeNorthEast contains 96 series and 16,487 records from 1917-M12 to 2017-S03\n"
     ]
    },
    {
     "name": "stderr",
     "output_type": "stream",
     "text": [
      "2024-04-26 17:26:52,175 DEBUG: Dropped 1 categories for footnote_codes\n",
      "2024-04-26 17:26:52,186 DEBUG: Dropped 1 categories for seasonal_code\n",
      "2024-04-26 17:26:52,199 DEBUG: Dropped 57 categories for area_code\n",
      "2024-04-26 17:26:52,212 DEBUG: Dropped 349 categories for item_code\n",
      "2024-04-26 17:26:52,223 DEBUG: Loading /Volumes/Seagate/DataArchive/HighValueDataNetwork/us-bls/repository/bls/cu/cu.data.4.AsizeNorthCentral\n",
      "2024-04-26 17:26:53,004 INFO: Skipping /Volumes/Seagate/DataArchive/HighValueDataNetwork/us-bls/repository/products/cu/cu.data.4.AsizeNorthCentral.csv (already exists)\n",
      "2024-04-26 17:26:53,006 INFO: Skipping /Volumes/Seagate/DataArchive/HighValueDataNetwork/us-bls/repository/products/cu/cu.data.4.AsizeNorthCentral.csv.zip (already exists)\n",
      "2024-04-26 17:26:53,008 INFO: Skipping /Volumes/Seagate/DataArchive/HighValueDataNetwork/us-bls/repository/products/cu/cu.data.4.AsizeNorthCentral.parquet (already exists)\n",
      "2024-04-26 17:26:53,009 DEBUG: Generating DDI-Codebook for cu.data.4.AsizeNorthCentral\n",
      "2024-04-26 17:26:53,012 DEBUG: Generating database DDI\n",
      "2024-04-26 17:26:53,100 DEBUG: Dropped 1 categories for footnote_codes\n",
      "2024-04-26 17:26:53,122 DEBUG: Dropped 1 categories for seasonal_code\n",
      "2024-04-26 17:26:53,142 DEBUG: Dropped 54 categories for area_code\n",
      "2024-04-26 17:26:53,156 DEBUG: Dropped 349 categories for item_code\n",
      "2024-04-26 17:26:53,172 INFO: Skipping /Volumes/Seagate/DataArchive/HighValueDataNetwork/us-bls/repository/products/cu/cu.data.5.AsizeSouth.csv (already exists)\n",
      "2024-04-26 17:26:53,174 INFO: Skipping /Volumes/Seagate/DataArchive/HighValueDataNetwork/us-bls/repository/products/cu/cu.data.5.AsizeSouth.csv.zip (already exists)\n",
      "2024-04-26 17:26:53,178 INFO: Skipping /Volumes/Seagate/DataArchive/HighValueDataNetwork/us-bls/repository/products/cu/cu.data.5.AsizeSouth.parquet (already exists)\n",
      "2024-04-26 17:26:53,179 DEBUG: Generating DDI-Codebook for cu.data.5.AsizeSouth\n",
      "2024-04-26 17:26:53,182 DEBUG: Generating database DDI\n"
     ]
    },
    {
     "name": "stdout",
     "output_type": "stream",
     "text": [
      "cu.data.4.AsizeNorthCentral contains 387 series and 60,094 records from 1914-M12 to 2017-S03\n",
      "cu.data.5.AsizeSouth contains 100 series and 11,258 records from 1996-M11 to 2017-S03\n"
     ]
    },
    {
     "name": "stderr",
     "output_type": "stream",
     "text": [
      "2024-04-26 17:26:53,255 DEBUG: Dropped 1 categories for footnote_codes\n",
      "2024-04-26 17:26:53,261 DEBUG: Dropped 1 categories for seasonal_code\n",
      "2024-04-26 17:26:53,267 DEBUG: Dropped 57 categories for area_code\n",
      "2024-04-26 17:26:53,273 DEBUG: Dropped 350 categories for item_code\n",
      "2024-04-26 17:26:53,280 DEBUG: Loading /Volumes/Seagate/DataArchive/HighValueDataNetwork/us-bls/repository/bls/cu/cu.data.6.AsizeWest\n",
      "2024-04-26 17:26:53,752 INFO: Skipping /Volumes/Seagate/DataArchive/HighValueDataNetwork/us-bls/repository/products/cu/cu.data.6.AsizeWest.csv (already exists)\n",
      "2024-04-26 17:26:53,754 INFO: Skipping /Volumes/Seagate/DataArchive/HighValueDataNetwork/us-bls/repository/products/cu/cu.data.6.AsizeWest.csv.zip (already exists)\n",
      "2024-04-26 17:26:53,758 INFO: Skipping /Volumes/Seagate/DataArchive/HighValueDataNetwork/us-bls/repository/products/cu/cu.data.6.AsizeWest.parquet (already exists)\n",
      "2024-04-26 17:26:53,759 DEBUG: Generating DDI-Codebook for cu.data.6.AsizeWest\n",
      "2024-04-26 17:26:53,762 DEBUG: Generating database DDI\n",
      "2024-04-26 17:26:53,835 DEBUG: Dropped 1 categories for footnote_codes\n",
      "2024-04-26 17:26:53,845 DEBUG: Dropped 1 categories for seasonal_code\n",
      "2024-04-26 17:26:53,861 DEBUG: Dropped 56 categories for area_code\n",
      "2024-04-26 17:26:53,898 DEBUG: Dropped 349 categories for item_code\n",
      "2024-04-26 17:26:53,915 DEBUG: Loading /Volumes/Seagate/DataArchive/HighValueDataNetwork/us-bls/repository/bls/cu/cu.data.7.OtherNorthEast\n"
     ]
    },
    {
     "name": "stdout",
     "output_type": "stream",
     "text": [
      "cu.data.6.AsizeWest contains 197 series and 45,180 records from 1914-M12 to 2017-S03\n"
     ]
    },
    {
     "name": "stderr",
     "output_type": "stream",
     "text": [
      "2024-04-26 17:26:56,237 INFO: Skipping /Volumes/Seagate/DataArchive/HighValueDataNetwork/us-bls/repository/products/cu/cu.data.7.OtherNorthEast.csv (already exists)\n",
      "2024-04-26 17:26:56,239 INFO: Skipping /Volumes/Seagate/DataArchive/HighValueDataNetwork/us-bls/repository/products/cu/cu.data.7.OtherNorthEast.csv.zip (already exists)\n",
      "2024-04-26 17:26:56,241 INFO: Skipping /Volumes/Seagate/DataArchive/HighValueDataNetwork/us-bls/repository/products/cu/cu.data.7.OtherNorthEast.parquet (already exists)\n",
      "2024-04-26 17:26:56,241 DEBUG: Generating DDI-Codebook for cu.data.7.OtherNorthEast\n",
      "2024-04-26 17:26:56,243 DEBUG: Generating database DDI\n",
      "2024-04-26 17:26:56,334 DEBUG: Dropped 1 categories for footnote_codes\n",
      "2024-04-26 17:26:56,370 DEBUG: Dropped 1 categories for seasonal_code\n",
      "2024-04-26 17:26:56,419 DEBUG: Dropped 50 categories for area_code\n"
     ]
    },
    {
     "name": "stdout",
     "output_type": "stream",
     "text": [
      "cu.data.7.OtherNorthEast contains 1,016 series and 214,126 records from 1914-M12 to 2024-M03\n"
     ]
    },
    {
     "name": "stderr",
     "output_type": "stream",
     "text": [
      "2024-04-26 17:26:56,457 DEBUG: Dropped 322 categories for item_code\n",
      "2024-04-26 17:26:56,463 DEBUG: Loading /Volumes/Seagate/DataArchive/HighValueDataNetwork/us-bls/repository/bls/cu/cu.data.8.OtherNorthCentral\n",
      "2024-04-26 17:26:58,881 INFO: Skipping /Volumes/Seagate/DataArchive/HighValueDataNetwork/us-bls/repository/products/cu/cu.data.8.OtherNorthCentral.csv (already exists)\n",
      "2024-04-26 17:26:58,883 INFO: Skipping /Volumes/Seagate/DataArchive/HighValueDataNetwork/us-bls/repository/products/cu/cu.data.8.OtherNorthCentral.csv.zip (already exists)\n",
      "2024-04-26 17:26:58,885 INFO: Skipping /Volumes/Seagate/DataArchive/HighValueDataNetwork/us-bls/repository/products/cu/cu.data.8.OtherNorthCentral.parquet (already exists)\n",
      "2024-04-26 17:26:58,886 DEBUG: Generating DDI-Codebook for cu.data.8.OtherNorthCentral\n",
      "2024-04-26 17:26:58,888 DEBUG: Generating database DDI\n",
      "2024-04-26 17:26:58,978 DEBUG: Dropped 1 categories for footnote_codes\n",
      "2024-04-26 17:26:59,019 DEBUG: Dropped 1 categories for seasonal_code\n",
      "2024-04-26 17:26:59,076 DEBUG: Dropped 48 categories for area_code\n"
     ]
    },
    {
     "name": "stdout",
     "output_type": "stream",
     "text": [
      "cu.data.8.OtherNorthCentral contains 1,244 series and 245,928 records from 1914-M12 to 2024-M03\n"
     ]
    },
    {
     "name": "stderr",
     "output_type": "stream",
     "text": [
      "2024-04-26 17:26:59,126 DEBUG: Dropped 322 categories for item_code\n",
      "2024-04-26 17:26:59,135 DEBUG: Loading /Volumes/Seagate/DataArchive/HighValueDataNetwork/us-bls/repository/bls/cu/cu.data.9.OtherSouth\n",
      "2024-04-26 17:27:02,348 INFO: Skipping /Volumes/Seagate/DataArchive/HighValueDataNetwork/us-bls/repository/products/cu/cu.data.9.OtherSouth.csv (already exists)\n",
      "2024-04-26 17:27:02,350 INFO: Skipping /Volumes/Seagate/DataArchive/HighValueDataNetwork/us-bls/repository/products/cu/cu.data.9.OtherSouth.csv.zip (already exists)\n",
      "2024-04-26 17:27:02,352 INFO: Skipping /Volumes/Seagate/DataArchive/HighValueDataNetwork/us-bls/repository/products/cu/cu.data.9.OtherSouth.parquet (already exists)\n",
      "2024-04-26 17:27:02,353 DEBUG: Generating DDI-Codebook for cu.data.9.OtherSouth\n",
      "2024-04-26 17:27:02,356 DEBUG: Generating database DDI\n",
      "2024-04-26 17:27:02,496 DEBUG: Dropped 1 categories for seasonal_code\n"
     ]
    },
    {
     "name": "stdout",
     "output_type": "stream",
     "text": [
      "cu.data.9.OtherSouth contains 1,738 series and 289,197 records from 1914-M12 to 2024-M03\n"
     ]
    },
    {
     "name": "stderr",
     "output_type": "stream",
     "text": [
      "2024-04-26 17:27:02,576 DEBUG: Dropped 44 categories for area_code\n",
      "2024-04-26 17:27:02,641 DEBUG: Dropped 322 categories for item_code\n"
     ]
    }
   ],
   "source": [
    "#\n",
    "# Data products\n",
    "#\n",
    "\n",
    "# generate database level DDI-Codebook\n",
    "db.to_ddic()\n",
    "\n",
    "# Generate data product for each data file\n",
    "# - This addresses data quality issues and  adds derived variables\n",
    "# - The data is saved as CSV, CSV.ZIP, and PARQUET\n",
    "# - A data product specific DDI-Cobebook is generated\n",
    "overwrite = False\n",
    "for id,datafile in db.datafiles.items():\n",
    "    if datafile.number != 5:\n",
    "        #continue\n",
    "        pass\n",
    "    print(f\"{datafile.filename} contains {len(datafile.get_series_ids()):,} series and {datafile.stats['n_records']:,} records from {datafile.stats['period_from']} to {datafile.stats['period_to']}\")\n",
    "    datafile.to_csv(overwrite=overwrite, zipped=False)\n",
    "    datafile.to_csv(overwrite=overwrite, zipped=True)\n",
    "    datafile.to_parquet(overwrite=overwrite)\n",
    "    datafile.to_ddic()\n",
    "\n",
    "# Generate data product for series\n",
    "# TODO"
   ]
  },
  {
   "cell_type": "code",
   "execution_count": null,
   "id": "a2a19869",
   "metadata": {},
   "outputs": [],
   "source": []
  }
 ],
 "metadata": {
  "kernelspec": {
   "display_name": "Python 3 (ipykernel)",
   "language": "python",
   "name": "python3"
  },
  "language_info": {
   "codemirror_mode": {
    "name": "ipython",
    "version": 3
   },
   "file_extension": ".py",
   "mimetype": "text/x-python",
   "name": "python",
   "nbconvert_exporter": "python",
   "pygments_lexer": "ipython3",
   "version": "3.10.13"
  }
 },
 "nbformat": 4,
 "nbformat_minor": 5
}
