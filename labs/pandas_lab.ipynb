{
 "cells": [
  {
   "cell_type": "code",
   "execution_count": 40,
   "id": "822b1d55-bb28-4dc4-9adc-63d8a7794f6a",
   "metadata": {},
   "outputs": [],
   "source": [
    "import clickhouse_connect\n",
    "import pandas as pd\n",
    "import numpy as np"
   ]
  },
  {
   "cell_type": "code",
   "execution_count": 53,
   "id": "7ca3a24f-ab86-4ad5-9a2a-f1e392dc783e",
   "metadata": {},
   "outputs": [],
   "source": [
    "# Read the data\n",
    "#data_file = \"TimeSeries/cu/cu.data.1.Allitems\"\n",
    "data_file = \"TimeSeries/cu/cu.data.0.Current\"\n",
    "df = pd.read_csv(data_file, sep='\\t')\n",
    "# remove spaces from names\n",
    "df.columns = df.columns.str.strip()\n",
    "# remove spaces from series_id\n",
    "df['series_id'] = df['series_id'].str.strip()"
   ]
  },
  {
   "cell_type": "code",
   "execution_count": 49,
   "id": "07f50458-d912-41b2-bb25-811e7c92acbd",
   "metadata": {},
   "outputs": [
    {
     "name": "stdout",
     "output_type": "stream",
     "text": [
      "CREATE TABLE bls.tbl_cu_1(series_id String,year Int64,period String,value Float64,footnote_codes  Nullable(Float64)) ENGINE = MergeTree() PRIMARY KEY (series_id, year, period)\n"
     ]
    }
   ],
   "source": [
    "# Generate SQL to create the table\n",
    "pandas_to_clickhouse_dtypes = {\n",
    "    'object': 'String',\n",
    "    'int64': 'Int64',\n",
    "    'float64': 'Float64',\n",
    "    'bool': 'UInt8',\n",
    "    'datetime64[ns]': 'DateTime',\n",
    "    'timedelta64[ns]': 'Interval',  # Stores duration like days, hours, etc.\n",
    "    'category': 'String',  # Category data can be complex, may need conversion\n",
    "    'string': 'String',\n",
    "    'Int8Dtype': 'Int8',\n",
    "    'Int16Dtype': 'Int16',\n",
    "    'Int32Dtype': 'Int32',\n",
    "    'UInt8Dtype': 'UInt8',\n",
    "    'UInt16Dtype': 'UInt16',\n",
    "    'UInt32Dtype': 'UInt32',\n",
    "}\n",
    "table_columns = []\n",
    "for name, pd_type in df.dtypes.items():\n",
    "    click_type = pandas_to_clickhouse_dtypes[pd_type.name]\n",
    "    if df[name].isnull().any():\n",
    "        click_type = f\" Nullable({click_type})\"\n",
    "    column_definition = f\"{name} {click_type}\"\n",
    "    table_columns.append(column_definition)\n",
    "\n",
    "table_name = 'bls.tbl_cu_1'\n",
    "sql = f\"CREATE TABLE {table_name}({','.join(table_column_types)}) ENGINE = MergeTree() PRIMARY KEY (series_id, year, period)\"\n",
    "print(sql)\n"
   ]
  },
  {
   "cell_type": "code",
   "execution_count": 47,
   "id": "30064547-c938-4c2a-af4a-7335df46e238",
   "metadata": {},
   "outputs": [
    {
     "data": {
      "text/plain": [
       "<clickhouse_connect.driver.summary.QuerySummary at 0x7fa6e2934040>"
      ]
     },
     "execution_count": 47,
     "metadata": {},
     "output_type": "execute_result"
    }
   ],
   "source": [
    "# create new table\n",
    "client = clickhouse_connect.get_client(host='localhost', port=8123, username='default', password='', database='bls')\n",
    "client.command(f\"DROP TABLE IF EXISTS {table_name}\")\n",
    "client.command(sql)"
   ]
  },
  {
   "cell_type": "code",
   "execution_count": 48,
   "id": "b45b9cfe-2205-4956-88aa-42e37d40e32b",
   "metadata": {},
   "outputs": [
    {
     "data": {
      "text/plain": [
       "<clickhouse_connect.driver.summary.QuerySummary at 0x7fa67094be20>"
      ]
     },
     "execution_count": 48,
     "metadata": {},
     "output_type": "execute_result"
    }
   ],
   "source": [
    "# load data with np.nan replace with None\n",
    "client.insert_df(table_name, df.replace({np.nan: None}))"
   ]
  },
  {
   "cell_type": "code",
   "execution_count": null,
   "id": "785b42b9-7f71-448e-8abe-9225f477b0ed",
   "metadata": {},
   "outputs": [],
   "source": []
  },
  {
   "cell_type": "code",
   "execution_count": null,
   "id": "f8cb84d2-9a86-4df6-a245-29fbb144ba57",
   "metadata": {},
   "outputs": [],
   "source": []
  }
 ],
 "metadata": {
  "kernelspec": {
   "display_name": "Python 3 (ipykernel)",
   "language": "python",
   "name": "python3"
  },
  "language_info": {
   "codemirror_mode": {
    "name": "ipython",
    "version": 3
   },
   "file_extension": ".py",
   "mimetype": "text/x-python",
   "name": "python",
   "nbconvert_exporter": "python",
   "pygments_lexer": "ipython3",
   "version": "3.10.12"
  }
 },
 "nbformat": 4,
 "nbformat_minor": 5
}
