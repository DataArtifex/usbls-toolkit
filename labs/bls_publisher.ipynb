{
 "cells": [
  {
   "cell_type": "markdown",
   "metadata": {},
   "source": [
    "# From Data to APIs"
   ]
  },
  {
   "cell_type": "code",
   "execution_count": null,
   "metadata": {},
   "outputs": [],
   "source": [
    "from dartfx.usblstoolkit import model\n",
    "from dartfx.datapublisher import postgres\n",
    "from dartfx.apipublisher import mtnards\n",
    "import os\n",
    "import logging\n",
    "logging.basicConfig(format='%(asctime)s %(levelname)s: %(message)s', level=\"DEBUG\")"
   ]
  },
  {
   "cell_type": "code",
   "execution_count": null,
   "metadata": {},
   "outputs": [],
   "source": [
    "# Setup BLS database\n",
    "repo = model.BlsRepository('/Volumes/Seagate/DataArchive/HighValueDataNetwork/us-bls/repository')\n",
    "db_id = 'cw'\n",
    "db = model.BlsDatabase(repo, db_id)\n",
    "\n",
    "# setup postgres\n",
    "pg_server = postgres.PostgresServer(host=\"pg17215.highvaluedata.net\", password=\"postgres\", schema=\"us_bls\")\n",
    "#pg_server = postgres.PostgresServer(host=\"localhost\", password=\"postgres\", schema=\"us_bls\""
   ]
  },
  {
   "cell_type": "code",
   "execution_count": null,
   "metadata": {},
   "outputs": [],
   "source": [
    "# Publish data to Postgres\n",
    "pg_publisher_config = postgres.PostgresDdiCodebookPublisherConfig()\n",
    "pg_publisher_config.if_exists = 'fail'\n",
    "pg_publisher_config.if_exists = 'replace'\n",
    "pg_publisher = postgres.PostgresDdiCodebookPublisher(pg_server, pg_publisher_config)\n",
    "for id,datafile in db.datafiles.items():\n",
    "    if datafile.number != 1:\n",
    "        #continue\n",
    "        pass\n",
    "    pg_publisher_config.ddi_filename = datafile.ddic_filepath\n",
    "    pg_publisher.publish()"
   ]
  },
  {
   "cell_type": "code",
   "execution_count": null,
   "metadata": {},
   "outputs": [],
   "source": [
    "# Publish to MTNA RDS\n",
    "pg_vpc_server = postgres.PostgresServer(host=\"pg.hvdn172\", password=pg_server.password, schema=pg_server.schema)\n",
    "rds_config = mtnards.MtnaRdsPublisherConfig()\n",
    "\n",
    "# Where to publish in RDS \n",
    "rds_config.rds_host = \"https://www172.highvaluedata.net\"\n",
    "rds_config.rds_api_key = \"S5pBrUZ2nxiVRJPs\" # default woud pick from environment variable\n",
    "rds_config.rds_catalog_id = f\"us_bls_{db.id}\"\n",
    "rds_config.rds_make_public = True\n",
    "rds_config.rds_overwrite = False\n",
    "rds_config.rds_ssl_verify = False\n",
    "\n",
    "# Where is the data coming from \n",
    "rds_config.sql_connection_string = pg_vpc_server.jdbc_connection_string\n",
    "rds_config.sql_username = pg_vpc_server.username\n",
    "rds_config.sql_password = pg_vpc_server.password\n",
    "\n",
    "# Postman\n",
    "#rds_config.postman_workspace_id = '15c355c1-942c-4268-818e-fe37b8e591ab'\n",
    "#rds_config.postman_api_key = os.getenv('POSTMAN_API_KEY')\n",
    "\n",
    "\n",
    "datafile = db.datafile0\n",
    "rds_config.rds_data_product_id = datafile.topic \n",
    "rds_config.sql_table = datafile.filename.rsplit(\".\", 1)[0].replace(\".\",\"_\")\n",
    "rds_config.postman_collection_filename = os.path.join(db.products_dir, datafile.filename+'.postman.json')\n",
    "rds_config.ddi_filepath = datafile.ddic_filepath\n",
    "\n",
    "rds_publisher = mtnards.MtnaRdsPublisher(rds_config)"
   ]
  },
  {
   "cell_type": "code",
   "execution_count": 5,
   "metadata": {},
   "outputs": [
    {
     "name": "stderr",
     "output_type": "stream",
     "text": [
      "2024-04-29 15:39:18,751 INFO: === Pre-publishing checks ===\n",
      "2024-04-29 15:39:18,806 INFO: Loading DDI file\n",
      "2024-04-29 15:39:18,871 INFO: DDI file contains single file fileDscr\n",
      "2024-04-29 15:39:18,872 INFO: DDI file looks good\n",
      "2024-04-29 15:39:18,922 DEBUG: Starting new HTTPS connection (1): www172.highvaluedata.net:443\n",
      "/Users/pascal/anaconda3/lib/python3.10/site-packages/urllib3/connectionpool.py:1061: InsecureRequestWarning: Unverified HTTPS request is being made to host 'www172.highvaluedata.net'. Adding certificate verification is strongly advised. See: https://urllib3.readthedocs.io/en/1.26.x/advanced-usage.html#ssl-warnings\n",
      "  warnings.warn(\n",
      "2024-04-29 15:39:19,031 DEBUG: https://www172.highvaluedata.net:443 \"GET /rds/api/server/info HTTP/1.1\" 200 None\n",
      "2024-04-29 15:39:19,041 DEBUG: Starting new HTTPS connection (1): www172.highvaluedata.net:443\n",
      "/Users/pascal/anaconda3/lib/python3.10/site-packages/urllib3/connectionpool.py:1061: InsecureRequestWarning: Unverified HTTPS request is being made to host 'www172.highvaluedata.net'. Adding certificate verification is strongly advised. See: https://urllib3.readthedocs.io/en/1.26.x/advanced-usage.html#ssl-warnings\n",
      "  warnings.warn(\n",
      "2024-04-29 15:39:19,194 DEBUG: https://www172.highvaluedata.net:443 \"GET /rds/api/catalog HTTP/1.1\" 200 None\n",
      "2024-04-29 15:39:19,200 INFO: RDS catalog us_bls_cw found with uri ed7c7dbd-c436-4bfc-84d3-6f7631c7632b\n",
      "2024-04-29 15:39:19,201 WARNING: RDS data product Current already exists and will not be overwritten\n",
      "2024-04-29 15:39:19,201 INFO: RDS looks good\n",
      "2024-04-29 15:39:19,203 INFO: === Publishing ===\n",
      "2024-04-29 15:39:19,204 INFO: No issues detected. All good to go!\n",
      "2024-04-29 15:39:19,205 INFO: Publishing DDI /Volumes/Seagate/DataArchive/HighValueDataNetwork/us-bls/repository/products/cw/cw.data.0.Current.ddi25.xml\n",
      "2024-04-29 15:39:19,212 DEBUG: Starting new HTTPS connection (1): www172.highvaluedata.net:443\n",
      "/Users/pascal/anaconda3/lib/python3.10/site-packages/urllib3/connectionpool.py:1061: InsecureRequestWarning: Unverified HTTPS request is being made to host 'www172.highvaluedata.net'. Adding certificate verification is strongly advised. See: https://urllib3.readthedocs.io/en/1.26.x/advanced-usage.html#ssl-warnings\n",
      "  warnings.warn(\n",
      "2024-04-29 15:39:19,332 DEBUG: https://www172.highvaluedata.net:443 \"POST /rds/_files/upload HTTP/1.1\" 200 None\n",
      "2024-04-29 15:39:19,343 INFO: Retrieving import configutration\n",
      "2024-04-29 15:39:19,361 DEBUG: Starting new HTTPS connection (1): www172.highvaluedata.net:443\n",
      "/Users/pascal/anaconda3/lib/python3.10/site-packages/urllib3/connectionpool.py:1061: InsecureRequestWarning: Unverified HTTPS request is being made to host 'www172.highvaluedata.net'. Adding certificate verification is strongly advised. See: https://urllib3.readthedocs.io/en/1.26.x/advanced-usage.html#ssl-warnings\n",
      "  warnings.warn(\n",
      "2024-04-29 15:39:19,469 DEBUG: https://www172.highvaluedata.net:443 \"POST /rds/api/management/catalog/ed7c7dbd-c436-4bfc-84d3-6f7631c7632b/product/Current/import/configure HTTP/1.1\" 200 None\n",
      "2024-04-29 15:39:19,474 INFO: Reader selectedDataset set to None\n",
      "2024-04-29 15:39:19,476 DEBUG: {'importType': 'fileImportConfiguration', 'availableLanguages': ['en', 'fr'], 'dataReaderConfiguration': {'@class': 'us.mtna.datareader.base.impl.MultiDataSetReaderConfiguration', 'allowEmptyRecords': False, 'availableDataSets': ['F0'], 'harmonizeClassifications': False, 'selectedDataset': None}, 'fileInformation': {'contentType': 'application/xml', 'fileName': 'cw.data.0.Current.ddi25.xml', 'fileSize': 39281, 'key': '0:db8f5184-d686-40ef-8623-f9d32161c91b', 'managerSize': 7809}, 'importClassifications': True, 'importProductDocumentation': True, 'importVariableGroups': True, 'importVariables': True, 'matchVariableNames': True, 'selectedLanguage': 'en', 'setOnDataProduct': False}\n",
      "2024-04-29 15:39:19,481 DEBUG: Starting new HTTPS connection (1): www172.highvaluedata.net:443\n",
      "/Users/pascal/anaconda3/lib/python3.10/site-packages/urllib3/connectionpool.py:1061: InsecureRequestWarning: Unverified HTTPS request is being made to host 'www172.highvaluedata.net'. Adding certificate verification is strongly advised. See: https://urllib3.readthedocs.io/en/1.26.x/advanced-usage.html#ssl-warnings\n",
      "  warnings.warn(\n",
      "2024-04-29 15:39:19,591 DEBUG: https://www172.highvaluedata.net:443 \"POST /rds/api/management/catalog/ed7c7dbd-c436-4bfc-84d3-6f7631c7632b/product/b83c17d0-e229-487c-80e0-066e901d78d0/import HTTP/1.1\" 200 None\n",
      "2024-04-29 15:39:19,600 DEBUG: Starting new HTTPS connection (1): www172.highvaluedata.net:443\n",
      "/Users/pascal/anaconda3/lib/python3.10/site-packages/urllib3/connectionpool.py:1061: InsecureRequestWarning: Unverified HTTPS request is being made to host 'www172.highvaluedata.net'. Adding certificate verification is strongly advised. See: https://urllib3.readthedocs.io/en/1.26.x/advanced-usage.html#ssl-warnings\n",
      "  warnings.warn(\n",
      "2024-04-29 15:39:19,685 DEBUG: https://www172.highvaluedata.net:443 \"GET /rds/api/management/catalog/process/details/aa090d6d-c258-4730-ab20-92f351c99fc8 HTTP/1.1\" 200 None\n",
      "2024-04-29 15:39:19,690 DEBUG: Process aa090d6d-c258-4730-ab20-92f351c99fc8 status PROCESSING (0%)\n",
      "2024-04-29 15:39:20,701 DEBUG: Starting new HTTPS connection (1): www172.highvaluedata.net:443\n",
      "/Users/pascal/anaconda3/lib/python3.10/site-packages/urllib3/connectionpool.py:1061: InsecureRequestWarning: Unverified HTTPS request is being made to host 'www172.highvaluedata.net'. Adding certificate verification is strongly advised. See: https://urllib3.readthedocs.io/en/1.26.x/advanced-usage.html#ssl-warnings\n",
      "  warnings.warn(\n",
      "2024-04-29 15:39:20,809 DEBUG: https://www172.highvaluedata.net:443 \"GET /rds/api/management/catalog/process/details/aa090d6d-c258-4730-ab20-92f351c99fc8 HTTP/1.1\" 200 None\n",
      "2024-04-29 15:39:20,814 DEBUG: Process aa090d6d-c258-4730-ab20-92f351c99fc8 status PROCESSING (6%)\n",
      "2024-04-29 15:39:21,823 DEBUG: Starting new HTTPS connection (1): www172.highvaluedata.net:443\n",
      "/Users/pascal/anaconda3/lib/python3.10/site-packages/urllib3/connectionpool.py:1061: InsecureRequestWarning: Unverified HTTPS request is being made to host 'www172.highvaluedata.net'. Adding certificate verification is strongly advised. See: https://urllib3.readthedocs.io/en/1.26.x/advanced-usage.html#ssl-warnings\n",
      "  warnings.warn(\n",
      "2024-04-29 15:39:21,924 DEBUG: https://www172.highvaluedata.net:443 \"GET /rds/api/management/catalog/process/details/aa090d6d-c258-4730-ab20-92f351c99fc8 HTTP/1.1\" 200 None\n",
      "2024-04-29 15:39:21,929 DEBUG: Process aa090d6d-c258-4730-ab20-92f351c99fc8 status PROCESSING (30%)\n",
      "2024-04-29 15:39:22,938 DEBUG: Starting new HTTPS connection (1): www172.highvaluedata.net:443\n",
      "/Users/pascal/anaconda3/lib/python3.10/site-packages/urllib3/connectionpool.py:1061: InsecureRequestWarning: Unverified HTTPS request is being made to host 'www172.highvaluedata.net'. Adding certificate verification is strongly advised. See: https://urllib3.readthedocs.io/en/1.26.x/advanced-usage.html#ssl-warnings\n",
      "  warnings.warn(\n",
      "2024-04-29 15:39:23,051 DEBUG: https://www172.highvaluedata.net:443 \"GET /rds/api/management/catalog/process/details/aa090d6d-c258-4730-ab20-92f351c99fc8 HTTP/1.1\" 200 None\n",
      "2024-04-29 15:39:23,055 DEBUG: Process aa090d6d-c258-4730-ab20-92f351c99fc8 status PROCESSING (36%)\n",
      "2024-04-29 15:39:24,065 DEBUG: Starting new HTTPS connection (1): www172.highvaluedata.net:443\n",
      "/Users/pascal/anaconda3/lib/python3.10/site-packages/urllib3/connectionpool.py:1061: InsecureRequestWarning: Unverified HTTPS request is being made to host 'www172.highvaluedata.net'. Adding certificate verification is strongly advised. See: https://urllib3.readthedocs.io/en/1.26.x/advanced-usage.html#ssl-warnings\n",
      "  warnings.warn(\n",
      "2024-04-29 15:39:24,185 DEBUG: https://www172.highvaluedata.net:443 \"GET /rds/api/management/catalog/process/details/aa090d6d-c258-4730-ab20-92f351c99fc8 HTTP/1.1\" 200 None\n",
      "2024-04-29 15:39:24,190 DEBUG: Process aa090d6d-c258-4730-ab20-92f351c99fc8 status COMPLETED (100%)\n",
      "2024-04-29 15:39:24,191 INFO: DDI successfully imported\n",
      "2024-04-29 15:39:24,192 DEBUG: completed: 100\n",
      "id: aa090d6d-c258-4730-ab20-92f351c99fc8\n",
      "failure: None\n",
      "method_id: process.id.import_metadata\n",
      "method_name: Import Metadata\n",
      "resource_name: Current Consumer Price Index - All Urban Wage earners and clerical workers\n",
      "resource_uri: b83c17d0-e229-487c-80e0-066e901d78d0\n",
      "status: COMPLETED\n",
      "completion_details: {'@type': 'metadataService', 'duration': 3800, 'ended': '2024-04-29T21:39:23.482Z', 'started': '2024-04-29T21:39:19.682Z'}\n",
      "\n",
      "2024-04-29 15:39:24,193 INFO: Exporting Postman collection to /Volumes/Seagate/DataArchive/HighValueDataNetwork/us-bls/repository/products/cw/cw.data.0.Current.postman.json\n",
      "2024-04-29 15:39:24,199 DEBUG: Starting new HTTPS connection (1): www172.highvaluedata.net:443\n",
      "/Users/pascal/anaconda3/lib/python3.10/site-packages/urllib3/connectionpool.py:1061: InsecureRequestWarning: Unverified HTTPS request is being made to host 'www172.highvaluedata.net'. Adding certificate verification is strongly advised. See: https://urllib3.readthedocs.io/en/1.26.x/advanced-usage.html#ssl-warnings\n",
      "  warnings.warn(\n",
      "2024-04-29 15:39:24,373 DEBUG: https://www172.highvaluedata.net:443 \"GET /rds/api/management/postman/us_bls_cw/Current?rdsBaseUrl=https%3A%2F%2Fwww172.highvaluedata.net%2Frds&rdsExplorerBaseUrl=https%3A%2F%2Fwww172.highvaluedata.net%2Frds%2Fexplorer%2Fexplore&rdsTabEngineBaseUrl=https%3A%2F%2Fwww172.highvaluedata.net%2Frds%2Ftabengine%2Ftabulation HTTP/1.1\" 200 None\n",
      "2024-04-29 15:39:24,451 INFO: Postman collection exported to /Volumes/Seagate/DataArchive/HighValueDataNetwork/us-bls/repository/products/cw/cw.data.0.Current.postman.json\n",
      "2024-04-29 15:39:24,461 INFO: === Post-publishing checks ===\n"
     ]
    }
   ],
   "source": [
    "rds_publisher.publish()"
   ]
  },
  {
   "cell_type": "code",
   "execution_count": null,
   "metadata": {},
   "outputs": [],
   "source": []
  }
 ],
 "metadata": {
  "kernelspec": {
   "display_name": "base",
   "language": "python",
   "name": "python3"
  },
  "language_info": {
   "codemirror_mode": {
    "name": "ipython",
    "version": 3
   },
   "file_extension": ".py",
   "mimetype": "text/x-python",
   "name": "python",
   "nbconvert_exporter": "python",
   "pygments_lexer": "ipython3",
   "version": "3.10.13"
  }
 },
 "nbformat": 4,
 "nbformat_minor": 2
}
