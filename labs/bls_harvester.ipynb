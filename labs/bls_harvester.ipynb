{
 "cells": [
  {
   "cell_type": "code",
   "execution_count": null,
   "id": "f9ce3cf5-c840-432b-be31-affa6d08aed6",
   "metadata": {},
   "outputs": [],
   "source": [
    "from dartfx.usbls import model\n",
    "import logging\n",
    "logging.basicConfig(format='%(asctime)s %(levelname)s: %(message)s', level=\"DEBUG\")"
   ]
  },
  {
   "cell_type": "code",
   "execution_count": null,
   "id": "e734bb2d-772f-4e96-8a76-4bcac1d67e0c",
   "metadata": {},
   "outputs": [],
   "source": [
    "repo = model.BlsRepository('/Volumes/Seagate/DataArchive/HighValueDataNetwork/us-bls/repository')"
   ]
  },
  {
   "cell_type": "code",
   "execution_count": null,
   "id": "0b46be40",
   "metadata": {},
   "outputs": [],
   "source": [
    "databases = model.DATABASES.keys() # all\n",
    "#databases = ['cw']\n",
    "for database in databases:\n",
    "    print(f\"Harvesting database: {database}\")\n",
    "    db = model.BlsDatabase(repo, database)\n",
    "    db.harvest()"
   ]
  },
  {
   "cell_type": "code",
   "execution_count": null,
   "id": "d48e6068",
   "metadata": {},
   "outputs": [],
   "source": []
  }
 ],
 "metadata": {
  "kernelspec": {
   "display_name": "base",
   "language": "python",
   "name": "python3"
  },
  "language_info": {
   "codemirror_mode": {
    "name": "ipython",
    "version": 3
   },
   "file_extension": ".py",
   "mimetype": "text/x-python",
   "name": "python",
   "nbconvert_exporter": "python",
   "pygments_lexer": "ipython3",
   "version": "3.10.6"
  }
 },
 "nbformat": 4,
 "nbformat_minor": 5
}
